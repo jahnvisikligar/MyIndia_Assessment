{
 "cells": [
  {
   "cell_type": "markdown",
   "id": "8de529e8-3891-4f47-8585-65b92b80bbf7",
   "metadata": {},
   "source": [
    "# Content Generation using GPT\n",
    "\n"
   ]
  },
  {
   "cell_type": "code",
   "execution_count": 1,
   "id": "e23399a9",
   "metadata": {
    "height": 149
   },
   "outputs": [],
   "source": [
    "import openai\n",
    "import os\n",
    "import random\n",
    "\n",
    "from dotenv import load_dotenv, find_dotenv\n",
    "_ = load_dotenv(find_dotenv()) # read local .env file\n",
    "\n",
    "openai.api_key  = os.getenv('OPENAI_API_KEY')"
   ]
  },
  {
   "cell_type": "code",
   "execution_count": 2,
   "id": "5497708b",
   "metadata": {
    "height": 574
   },
   "outputs": [
    {
     "name": "stdout",
     "output_type": "stream",
     "text": [
      "Introducing our sleek and stylish red smartphone with a generous 64GB storage capacity, perfect for storing all your photos, videos, and apps. Stay connected on the go with the convenience of dual sim functionality, allowing you to easily switch between personal and work numbers. \n",
      "\n",
      "Power through your day with confidence thanks to the impressive 4000mAh battery, ensuring long-lasting performance without the need for constant recharging. Capture every moment in stunning detail with the 40-megapixel back camera, delivering crisp and vibrant photos that truly stand out.\n",
      "\n",
      "Elevate your selfies with the 20-megapixel front camera, ideal for capturing flawless self-portraits and video calls with friends and family. Experience the perfect blend of style, functionality, and performance with this exceptional smartphone that is sure to exceed your expectations.\n",
      "User 1 interacted with content 101: view\n"
     ]
    }
   ],
   "source": [
    "def generate_product_description(attributes, strategy='default'):\n",
    "    if strategy == 'strategy_a':\n",
    "        # Strategy A: Use one style of prompt\n",
    "        system_message = \"You are a helpful assistant that is good at writing detailed product descriptions based on provided product attributes.\"\n",
    "    elif strategy == 'strategy_b':\n",
    "        # Strategy B: Use another style of prompt\n",
    "        system_message = \"You are an expert marketing assistant specializing in creating enticing product descriptions based on given attributes.\"\n",
    "    else:\n",
    "        system_message = \"You are a helpful assistant to write product descriptions based on provided product attributes.\"\n",
    "\n",
    "    response = openai.ChatCompletion.create(\n",
    "        model=\"gpt-3.5-turbo\",\n",
    "        messages=[\n",
    "            {\"role\": \"system\", \"content\": system_message},\n",
    "            {\"role\": \"user\", \"content\": f\"Generate a 10 line product description with the following attributes: {attributes}\"}\n",
    "        ],\n",
    "        temperature=0,\n",
    "        max_tokens=300\n",
    "    )\n",
    "    return response.choices[0].message['content'].strip()\n",
    "\n",
    "def track_interaction(user_id, content_id, interaction_type):\n",
    "    # Log user interaction with the generated content\n",
    "    print(f\"User {user_id} interacted with content {content_id}: {interaction_type}\")\n",
    "\n",
    "# Example usage\n",
    "product_attributes = \"Red, 64GB, Dual Sim, 4000mAh Battery, 40Megapixel back camera, 20Megapixel front camera.\"\n",
    "user_id = 1\n",
    "content_id = 101\n",
    "strategy = random.choice(['strategy_a', 'strategy_b'])\n",
    "description = generate_product_description(product_attributes, strategy)\n",
    "print(description)\n",
    "track_interaction(user_id, content_id, \"view\")"
   ]
  },
  {
   "cell_type": "code",
   "execution_count": 16,
   "id": "38a7f2c1",
   "metadata": {
    "height": 336
   },
   "outputs": [
    {
     "name": "stdout",
     "output_type": "stream",
     "text": [
      "Generated Description: Introducing our sleek and stylish red smartphone with a generous 64GB of storage, perfect for all your photos, videos, and apps. Stay connected on the go with the convenience of dual sim capability, allowing you to easily manage work and personal calls. With a powerful 4000mAh battery, you can enjoy extended usage without worrying about running out of power. Capture every moment in stunning detail with the impressive 40-megapixel back camera, ensuring your photos are always sharp and vibrant. Take flawless selfies with the 20-megapixel front camera, ideal for video calls and social media posts. Elevate your mobile experience with this feature-packed device that combines style, performance, and functionality seamlessly. Stay organized and entertained with ample storage space for all your files and media. The vibrant red color adds a pop of personality to your everyday tech accessories. Experience the ultimate in mobile photography with the high-resolution back camera that delivers professional-quality images. Upgrade your selfie game with the front camera's crisp and clear photos that are perfect for sharing with friends and family.\n",
      "Content generation test passed.\n"
     ]
    }
   ],
   "source": [
    "def run_unit_tests():\n",
    "    \"\"\"\n",
    "    Run unit tests for content generation and recommendation scripts in Jupyter Notebook.\n",
    "    \"\"\"\n",
    "    # Example of testing content generation\n",
    "    product_attributes = \"Red, 64GB, Dual Sim, 4000mAh Battery, 40Megapixel back camera, 20Megapixel front camera.\"\n",
    "    strategy = 'A'  # Adjust strategy as needed for testing\n",
    "\n",
    "    description = generate_product_description(product_attributes, strategy=strategy)\n",
    "    print(\"Generated Description:\", description)  # Print the generated description for debugging\n",
    "\n",
    "    # Adjusted assertions\n",
    "    assert \"red\" in description.lower(), f\"Expected 'Red' (case insensitive) in description but got: {description}\"\n",
    "    assert \"64gb\" in description.lower(), f\"Expected '64GB' (case insensitive) in description but got: {description}\"\n",
    "\n",
    "    print(\"Content generation test passed.\")\n",
    "\n",
    "# Run unit tests\n",
    "run_unit_tests()"
   ]
  }
 ],
 "metadata": {
  "kernelspec": {
   "display_name": "Python 3 (ipykernel)",
   "language": "python",
   "name": "python3"
  },
  "language_info": {
   "codemirror_mode": {
    "name": "ipython",
    "version": 3
   },
   "file_extension": ".py",
   "mimetype": "text/x-python",
   "name": "python",
   "nbconvert_exporter": "python",
   "pygments_lexer": "ipython3",
   "version": "3.9.19"
  }
 },
 "nbformat": 4,
 "nbformat_minor": 5
}
